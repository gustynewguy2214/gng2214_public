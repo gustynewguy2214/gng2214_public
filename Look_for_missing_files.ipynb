{
  "nbformat": 4,
  "nbformat_minor": 0,
  "metadata": {
    "colab": {
      "name": "Look for missing files.ipynb",
      "provenance": []
    },
    "kernelspec": {
      "name": "python3",
      "display_name": "Python 3"
    },
    "language_info": {
      "name": "python"
    },
    "accelerator": "GPU"
  },
  "cells": [
    {
      "cell_type": "code",
      "metadata": {
        "colab": {
          "base_uri": "https://localhost:8080/"
        },
        "id": "fC8r7IRmo-CJ",
        "outputId": "e60b02a3-2b4c-4691-c5eb-faaa15977c86"
      },
      "source": [
        "from google.colab import drive\n",
        "from google.colab import files\n",
        "drive.mount('/content/drive')"
      ],
      "execution_count": null,
      "outputs": [
        {
          "output_type": "stream",
          "text": [
            "Mounted at /content/drive\n"
          ],
          "name": "stdout"
        }
      ]
    },
    {
      "cell_type": "code",
      "metadata": {
        "colab": {
          "base_uri": "https://localhost:8080/"
        },
        "id": "Fw7qIIjGoo3h",
        "outputId": "4966f943-d078-4e45-9566-37ea69e606b7"
      },
      "source": [
        "import pandas as pd\n",
        "import os\n",
        "\n",
        "root_dir = '/content/drive/My Drive/Colab Notebooks/input/5610_cp2/'\n",
        "#'/content/drive/input/'\n",
        "print(\"Known current lengths:\")\n",
        "print(len(os.listdir(root_dir + 'train')),len(os.listdir(root_dir + 'val')),len(os.listdir(root_dir + 'test')))\n",
        "\n",
        "out_name = \"FileList.txt\"\n",
        "out_file = open(out_name,\"w\")\n",
        "\n",
        "for dt in ['train','val','test']:\n",
        "  df = pd.read_csv(root_dir + dt + '.csv')\n",
        "\n",
        "  imlist = df['id'].values\n",
        "  flist = os.listdir(root_dir + '/' + dt)\n",
        "\n",
        "  first_missing = None\n",
        "  missing = 0\n",
        "  j = 0\n",
        "  for i in range(0,len(imlist)):\n",
        "    image = imlist[i] + '.jpg'\n",
        "    if image not in flist:\n",
        "      missing += 1\n",
        "      out_file.write(image + '\\n')\n",
        "      if missing == 1:\n",
        "        first_missing = image\n",
        "    \n",
        "    #if j >= 8000:\n",
        "      #break\n",
        "    #j += 1\n",
        "  print(\"The \", dt, \" folder is missing \", missing, \" starting with \", first_missing)\n",
        "  out_file.close()"
      ],
      "execution_count": null,
      "outputs": [
        {
          "output_type": "stream",
          "text": [
            "Known current lengths:\n",
            "5 7025 7026\n",
            "The  train  folder is missing  32785  starting with  927038_290696464429549_954605866_a.jpg\n",
            "The  val  folder is missing  0  starting with  None\n",
            "The  test  folder is missing  0  starting with  None\n"
          ],
          "name": "stdout"
        }
      ]
    },
    {
      "cell_type": "code",
      "metadata": {
        "id": "w2WZIYpayIwF"
      },
      "source": [
        "files.download(out_name)"
      ],
      "execution_count": null,
      "outputs": []
    }
  ]
}